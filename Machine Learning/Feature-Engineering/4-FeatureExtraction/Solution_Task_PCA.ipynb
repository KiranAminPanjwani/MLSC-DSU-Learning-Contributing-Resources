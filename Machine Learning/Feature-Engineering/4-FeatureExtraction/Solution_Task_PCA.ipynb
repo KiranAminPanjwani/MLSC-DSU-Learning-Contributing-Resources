{
  "cells": [
    {
      "cell_type": "markdown",
      "metadata": {
        "id": "-LLHGbigkBJd"
      },
      "source": [
        "### `Task` How dimensionality reduction using Principal Component Analysis (PCA) on the Wine Quality dataset contributes to improving the classification accuracy and efficiency of wine type.\n",
        "\n",
        "Note : Use KNN for Classification.\n",
        "\n",
        "Data Link :  [Wine Data](https://docs.google.com/spreadsheets/d/e/2PACX-1vQDVwxneOKOaJL13QMhkAhYrgWlH1tICY7RacUnj_lL8m9uUWaaUf3p7bScNyh_D2Rvt7nc1q11adSy/pub?gid=647503637&single=true&output=csv)"
      ]
    },
    {
      "cell_type": "code",
      "execution_count": 2,
      "metadata": {
        "colab": {
          "base_uri": "https://localhost:8080/",
          "height": 142
        },
        "id": "HgJ-b41rjVas",
        "outputId": "2afbebf2-18fb-4c00-c6aa-dcb4e8cb669e"
      },
      "outputs": [
        {
          "data": {
            "text/html": [
              "<div>\n",
              "<style scoped>\n",
              "    .dataframe tbody tr th:only-of-type {\n",
              "        vertical-align: middle;\n",
              "    }\n",
              "\n",
              "    .dataframe tbody tr th {\n",
              "        vertical-align: top;\n",
              "    }\n",
              "\n",
              "    .dataframe thead th {\n",
              "        text-align: right;\n",
              "    }\n",
              "</style>\n",
              "<table border=\"1\" class=\"dataframe\">\n",
              "  <thead>\n",
              "    <tr style=\"text-align: right;\">\n",
              "      <th></th>\n",
              "      <th>type</th>\n",
              "      <th>fixed acidity</th>\n",
              "      <th>volatile acidity</th>\n",
              "      <th>citric acid</th>\n",
              "      <th>residual sugar</th>\n",
              "      <th>chlorides</th>\n",
              "      <th>free sulfur dioxide</th>\n",
              "      <th>total sulfur dioxide</th>\n",
              "      <th>density</th>\n",
              "      <th>pH</th>\n",
              "      <th>sulphates</th>\n",
              "      <th>alcohol</th>\n",
              "      <th>quality</th>\n",
              "    </tr>\n",
              "  </thead>\n",
              "  <tbody>\n",
              "    <tr>\n",
              "      <th>0</th>\n",
              "      <td>white</td>\n",
              "      <td>7.0</td>\n",
              "      <td>0.27</td>\n",
              "      <td>0.36</td>\n",
              "      <td>20.7</td>\n",
              "      <td>0.045</td>\n",
              "      <td>45.0</td>\n",
              "      <td>170.0</td>\n",
              "      <td>1.001</td>\n",
              "      <td>3.0</td>\n",
              "      <td>0.45</td>\n",
              "      <td>8.8</td>\n",
              "      <td>6</td>\n",
              "    </tr>\n",
              "  </tbody>\n",
              "</table>\n",
              "</div>"
            ],
            "text/plain": [
              "    type  fixed acidity  volatile acidity  citric acid  residual sugar  \\\n",
              "0  white            7.0              0.27         0.36            20.7   \n",
              "\n",
              "   chlorides  free sulfur dioxide  total sulfur dioxide  density   pH  \\\n",
              "0      0.045                 45.0                 170.0    1.001  3.0   \n",
              "\n",
              "   sulphates  alcohol  quality  \n",
              "0       0.45      8.8        6  "
            ]
          },
          "execution_count": 2,
          "metadata": {},
          "output_type": "execute_result"
        }
      ],
      "source": [
        "# Data Loading\n",
        "import pandas as pd\n",
        "wine_data_path = \"https://docs.google.com/spreadsheets/d/e/2PACX-1vQDVwxneOKOaJL13QMhkAhYrgWlH1tICY7RacUnj_lL8m9uUWaaUf3p7bScNyh_D2Rvt7nc1q11adSy/pub?gid=647503637&single=true&output=csv\"\n",
        "wine = pd.read_csv(wine_data_path)\n",
        "wine.head(1)"
      ]
    },
    {
      "cell_type": "code",
      "execution_count": 3,
      "metadata": {
        "id": "JnYl5IKukALd"
      },
      "outputs": [],
      "source": [
        "# Your Code goes Here"
      ]
    },
    {
      "cell_type": "markdown",
      "metadata": {
        "id": "i-cx9Mn8lEEc"
      },
      "source": [
        "#### `Solution`"
      ]
    },
    {
      "cell_type": "code",
      "execution_count": 4,
      "metadata": {
        "colab": {
          "base_uri": "https://localhost:8080/"
        },
        "id": "B5_oivVRlF-k",
        "outputId": "900d74a6-a8e4-40fb-ce7d-a3686ecce543"
      },
      "outputs": [
        {
          "name": "stdout",
          "output_type": "stream",
          "text": [
            "<class 'pandas.core.frame.DataFrame'>\n",
            "RangeIndex: 6497 entries, 0 to 6496\n",
            "Data columns (total 13 columns):\n",
            " #   Column                Non-Null Count  Dtype  \n",
            "---  ------                --------------  -----  \n",
            " 0   type                  6497 non-null   object \n",
            " 1   fixed acidity         6487 non-null   float64\n",
            " 2   volatile acidity      6489 non-null   float64\n",
            " 3   citric acid           6494 non-null   float64\n",
            " 4   residual sugar        6495 non-null   float64\n",
            " 5   chlorides             6495 non-null   float64\n",
            " 6   free sulfur dioxide   6497 non-null   float64\n",
            " 7   total sulfur dioxide  6497 non-null   float64\n",
            " 8   density               6497 non-null   float64\n",
            " 9   pH                    6488 non-null   float64\n",
            " 10  sulphates             6493 non-null   float64\n",
            " 11  alcohol               6497 non-null   float64\n",
            " 12  quality               6497 non-null   int64  \n",
            "dtypes: float64(11), int64(1), object(1)\n",
            "memory usage: 660.0+ KB\n"
          ]
        }
      ],
      "source": [
        "wine.info()"
      ]
    },
    {
      "cell_type": "code",
      "execution_count": 5,
      "metadata": {
        "colab": {
          "base_uri": "https://localhost:8080/"
        },
        "id": "aBRciZc-lHwf",
        "outputId": "bd2c6c39-6661-45e5-e397-104df2de0980"
      },
      "outputs": [
        {
          "data": {
            "text/plain": [
              "type                     0\n",
              "fixed acidity           10\n",
              "volatile acidity         8\n",
              "citric acid              3\n",
              "residual sugar           2\n",
              "chlorides                2\n",
              "free sulfur dioxide      0\n",
              "total sulfur dioxide     0\n",
              "density                  0\n",
              "pH                       9\n",
              "sulphates                4\n",
              "alcohol                  0\n",
              "quality                  0\n",
              "dtype: int64"
            ]
          },
          "execution_count": 5,
          "metadata": {},
          "output_type": "execute_result"
        }
      ],
      "source": [
        "# Checking for Nan Values\n",
        "wine.isna().sum()"
      ]
    },
    {
      "cell_type": "code",
      "execution_count": 6,
      "metadata": {
        "colab": {
          "base_uri": "https://localhost:8080/"
        },
        "id": "h1vhtigAlr5i",
        "outputId": "561520fa-38cf-47b8-ee4f-2b1549446b20"
      },
      "outputs": [
        {
          "data": {
            "text/plain": [
              "1168"
            ]
          },
          "execution_count": 6,
          "metadata": {},
          "output_type": "execute_result"
        }
      ],
      "source": [
        "# Checking for duplicated data\n",
        "wine.duplicated().sum()"
      ]
    },
    {
      "cell_type": "code",
      "execution_count": 7,
      "metadata": {
        "colab": {
          "base_uri": "https://localhost:8080/"
        },
        "id": "3RU8MpHxlxWi",
        "outputId": "dc7337aa-2b55-4359-ffd1-4cabb273eefd"
      },
      "outputs": [
        {
          "name": "stdout",
          "output_type": "stream",
          "text": [
            "Wine Data Shape : (6497, 13)\n",
            "Wine Data Shape (After Dropping-) : (5295, 13)\n"
          ]
        }
      ],
      "source": [
        "# We need to remove duplicated rows and missing value rows\n",
        "import pandas as pd\n",
        "\n",
        "# Load the Wine Quality dataset\n",
        "wine_data = pd.read_csv(wine_data_path)\n",
        "print(\"Wine Data Shape :\", wine_data.shape)\n",
        "\n",
        "# Drop rows with missing values\n",
        "wine_data = wine_data.dropna()\n",
        "\n",
        "# Dropping Duplicates rows\n",
        "wine_data.drop_duplicates(inplace=True)\n",
        "print(\"Wine Data Shape (After Dropping-) :\", wine_data.shape)\n",
        "\n",
        "\n"
      ]
    },
    {
      "cell_type": "code",
      "execution_count": 8,
      "metadata": {
        "colab": {
          "base_uri": "https://localhost:8080/"
        },
        "id": "YKBNLNw3l8xW",
        "outputId": "cc12ebe7-9d2f-4b8b-e990-e9dc7db9e363"
      },
      "outputs": [
        {
          "name": "stdout",
          "output_type": "stream",
          "text": [
            "KNN having features - 12\n",
            "Classification Accuracy without PCA: 99.34%\n"
          ]
        }
      ],
      "source": [
        "from sklearn.model_selection import train_test_split\n",
        "from sklearn.preprocessing import StandardScaler\n",
        "from sklearn.decomposition import PCA\n",
        "from sklearn.neighbors import KNeighborsClassifier\n",
        "from sklearn.metrics import accuracy_score\n",
        "\n",
        "\n",
        "# Separate features (physicochemical properties) and target variable (type)\n",
        "X = wine_data.drop('type', axis=1)\n",
        "y = wine_data['type']\n",
        "\n",
        "# Split the dataset into training and testing sets\n",
        "X_train, X_test, y_train, y_test = train_test_split(X, y, test_size=0.2, random_state=42)\n",
        "\n",
        "# Standardize the features\n",
        "scaler = StandardScaler()\n",
        "X_train_scaled = scaler.fit_transform(X_train)\n",
        "X_test_scaled = scaler.transform(X_test)\n",
        "\n",
        "# Train a K-Nearest Neighbors (KNN) classifier without PCA\n",
        "knn_no_pca = KNeighborsClassifier(n_neighbors=5)\n",
        "knn_no_pca.fit(X_train_scaled, y_train)\n",
        "\n",
        "# Predict the wine type on the testing set without PCA\n",
        "y_pred_no_pca = knn_no_pca.predict(X_test_scaled)\n",
        "\n",
        "# Evaluate the classification accuracy without PCA\n",
        "accuracy_no_pca = accuracy_score(y_test, y_pred_no_pca)\n",
        "print(\"KNN having features -\", X_train_scaled.shape[1])\n",
        "print(\"Classification Accuracy without PCA: {:.2f}%\".format(accuracy_no_pca * 100))\n"
      ]
    },
    {
      "cell_type": "code",
      "execution_count": 9,
      "metadata": {
        "colab": {
          "base_uri": "https://localhost:8080/"
        },
        "id": "N0nUe2I-m71l",
        "outputId": "9ce76297-a1c9-4bf1-a38c-b3faf45094d4"
      },
      "outputs": [
        {
          "name": "stdout",
          "output_type": "stream",
          "text": [
            "KNN having features - 5\n",
            "Classification Accuracy with PCA: 98.87%\n"
          ]
        }
      ],
      "source": [
        "# Apply PCA on the standardized features\n",
        "pca = PCA(n_components=5)\n",
        "X_train_pca = pca.fit_transform(X_train_scaled)\n",
        "X_test_pca = pca.transform(X_test_scaled)\n",
        "\n",
        "# Train a K-Nearest Neighbors (KNN) classifier with PCA\n",
        "knn_with_pca = KNeighborsClassifier(n_neighbors=5)\n",
        "knn_with_pca.fit(X_train_pca, y_train)\n",
        "\n",
        "# Predict the wine type on the testing set with PCA\n",
        "y_pred_pca = knn_with_pca.predict(X_test_pca)\n",
        "\n",
        "# Evaluate the classification accuracy with PCA\n",
        "accuracy_pca = accuracy_score(y_test, y_pred_pca)\n",
        "\n",
        "print(\"KNN having features -\", X_train_pca.shape[1])\n",
        "print(\"Classification Accuracy with PCA: {:.2f}%\".format(accuracy_pca * 100))"
      ]
    }
  ],
  "metadata": {
    "colab": {
      "provenance": []
    },
    "kernelspec": {
      "display_name": "Python 3",
      "name": "python3"
    },
    "language_info": {
      "codemirror_mode": {
        "name": "ipython",
        "version": 3
      },
      "file_extension": ".py",
      "mimetype": "text/x-python",
      "name": "python",
      "nbconvert_exporter": "python",
      "pygments_lexer": "ipython3",
      "version": "3.12.3"
    }
  },
  "nbformat": 4,
  "nbformat_minor": 0
}
