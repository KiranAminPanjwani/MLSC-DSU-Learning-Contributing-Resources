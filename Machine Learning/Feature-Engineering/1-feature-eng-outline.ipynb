{
 "cells": [
  {
   "cell_type": "markdown",
   "metadata": {
    "slideshow": {
     "slide_type": "notes"
    }
   },
   "source": [
    "# Feature Engineering\n",
    "1. Feature Transformation\n",
    "2. Feature Construction\n",
    "3. Feature Selection\n",
    "4. Feature Extraction\n",
    "<hr>\n",
    "\n",
    "1. **Feature Transformation** <br>\n",
    "    1. Missing Value Imputation (Remove Missing Values | Impute Missing Values)<br>\n",
    "        - Remove (drop) <br>\n",
    "        - Impute (CCA: Complete Case Analysis) <br>\n",
    "            - Univariate Imputation (Use When MCAR: Missing Completely at random ) <br><br>\n",
    "                a. Numerical <br><br>\n",
    "                    - Mean/median<br>\n",
    "                    - Random<br>\n",
    "                    - End of Distribution (NMAR: Not missing at Random)<br><br>\n",
    "                b. Categorical<br><br>\n",
    "                    - Mode<br>\n",
    "                    - Missing (indicator)<br><br>\n",
    "            - Multivariate Imputation<br><br>\n",
    "                - KNN imputer <br>\n",
    "                - Iterative Imputer <br>\n",
    "                - MICE (Multivariate Imputation by Chained Equations)<br><br>\n",
    "                \n",
    "    1. Handling Categorical Features (Encoding Categorical Data)<br><br>\n",
    "        1. Oridnal Encoding <br>\n",
    "        1. One Hot Encoding<br>\n",
    "            - sklearn ColumnTransformer<br> \n",
    "        1. Label Encoding<br><br>\n",
    "\n",
    "    1. Outlier Detection (Techniques for outlier detection and removel) <br><br>\n",
    "            1. Z-score treatment (Normal or almost Normal distribution)<br>\n",
    "            2. IQR Based filtering (skewed distribution)<br>\n",
    "            3. Percentile<br>\n",
    "            4. Winsorization<br> <br>\n",
    "        \n",
    "    1. Feature Scaling <br><br>\n",
    "        1. Standardization (Also called as Z-score Normalization)<br>\n",
    "            - sklearn StandardScalar<br><br>\n",
    "        2. Normalization<br>\n",
    "            a. Min Max Scaling <br> \n",
    "            b. Mean Normalization <br>\n",
    "            c. Max Absolute Scaling <br>\n",
    "            d. Robust Scaling <br>\n",
    "    1. Mathematical Transformations (For Normal Distribution)<br><br>\n",
    "        1. Function Transformer<br>\n",
    "            - Log Transformation<br>\n",
    "            - Reciprocal Transformation<br>\n",
    "            - Squaure | Square Root<br>\n",
    "            - Custom<br>\n",
    "        1. Power Transformer<br>\n",
    "            - Box-Cox Transformation<br>\n",
    "            - Yeo-Johnson Transformation<br><br>\n",
    "        1. Quantile Transformer\n",
    "1. **Feature Selection**<br>\n",
    "    1. Forward Selection<br>\n",
    "    1. Backward Elimination<br>\n",
    "1. **Feature Construction**<br>\n",
    "    1. PCA (Principle Componenet Analysis)<br>\n",
    "    1. LDA (Linear Discrimnant Analysis)<br>\n",
    "    1. tsne <br>\n",
    "\n",
    "1. **Feature Extraction**<br><br>\n",
    "\n",
    "\n",
    "MISC<br>\n",
    "    - Encoding Numerical Features<br>\n",
    "    - Discretization (Binning)<br>\n",
    "        - Unsupervised Discretization<br>\n",
    "            - Equal width uniform<br>\n",
    "            - Equal Frequency (quantile)<br>\n",
    "            - K-means Binning<br>\n",
    "        - Supervised<br>\n",
    "            - DecisionTree Binning<br>\n",
    "        - Custom Binning<br>"
   ]
  },
  {
   "cell_type": "markdown",
   "metadata": {},
   "source": [
    "Data School: Scikitlearn tips\n",
    "https://www.youtube.com/playlist?list=PL5-da3qGB5ID7YYAqireYEew2mWVvgmj6"
   ]
  }
 ],
 "metadata": {
  "kernelspec": {
   "display_name": "Python 3",
   "language": "python",
   "name": "python3"
  },
  "language_info": {
   "codemirror_mode": {
    "name": "ipython",
    "version": 3
   },
   "file_extension": ".py",
   "mimetype": "text/x-python",
   "name": "python",
   "nbconvert_exporter": "python",
   "pygments_lexer": "ipython3",
   "version": "3.12.3"
  }
 },
 "nbformat": 4,
 "nbformat_minor": 2
}
