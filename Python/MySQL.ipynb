{
 "cells": [
  {
   "cell_type": "markdown",
   "metadata": {},
   "source": [
    "# Python MySQL Connection\n",
    "### Note: Either don't touch any snippet or add new"
   ]
  },
  {
   "cell_type": "markdown",
   "metadata": {},
   "source": [
    "#### Connection"
   ]
  },
  {
   "cell_type": "code",
   "execution_count": 1,
   "metadata": {},
   "outputs": [],
   "source": [
    "\n",
    "import mysql.connector\n",
    "\n",
    "mydb = mysql.connector.connect(\n",
    "  host=\"localhost\",\n",
    "  user=\"root\",\n",
    "  password=\"root\"\n",
    ")\n",
    "mycursor = mydb.cursor()\n",
    "\n"
   ]
  },
  {
   "cell_type": "markdown",
   "metadata": {},
   "source": [
    "#### Create and Show Database(s)"
   ]
  },
  {
   "cell_type": "code",
   "execution_count": 6,
   "metadata": {},
   "outputs": [
    {
     "name": "stdout",
     "output_type": "stream",
     "text": [
      "('classicmodels',)\n",
      "('examination',)\n",
      "('imported',)\n",
      "('information_schema',)\n",
      "('mydatabase',)\n",
      "('mysql',)\n",
      "('newschema',)\n",
      "('performance_schema',)\n",
      "('sys',)\n"
     ]
    }
   ],
   "source": [
    "\n",
    "# Create Database\n",
    "mycursor.execute(\"CREATE DATABASE mydatabase\")\n",
    "\n",
    "# Show databases\n",
    "mycursor.execute(\"SHOW DATABASES\")\n",
    "for x in mycursor:\n",
    "  print(x)\n"
   ]
  },
  {
   "cell_type": "markdown",
   "metadata": {},
   "source": [
    "#### Connecting to the database"
   ]
  },
  {
   "cell_type": "code",
   "execution_count": 7,
   "metadata": {},
   "outputs": [],
   "source": [
    "import mysql.connector\n",
    "\n",
    "db = mysql.connector.connect(host=\"localhost\", user=\"root\", password=\"root\", database=\"mydatabase\") \n",
    "# There will be error if 'mydatabase' doesn't exist."
   ]
  },
  {
   "cell_type": "markdown",
   "metadata": {},
   "source": [
    "#### Create table"
   ]
  },
  {
   "cell_type": "code",
   "execution_count": 10,
   "metadata": {},
   "outputs": [],
   "source": [
    "cursor = db.cursor()\n",
    "\n",
    "cursor.execute(\"\"\"\n",
    "Create table customers(\n",
    "name varchar(65),\n",
    "address varchar(255)\n",
    ")\n",
    "               \n",
    "\"\"\")"
   ]
  },
  {
   "cell_type": "markdown",
   "metadata": {},
   "source": [
    "#### Show tables"
   ]
  },
  {
   "cell_type": "code",
   "execution_count": 11,
   "metadata": {},
   "outputs": [
    {
     "name": "stdout",
     "output_type": "stream",
     "text": [
      "('customers',)\n"
     ]
    }
   ],
   "source": [
    "cursor.execute(\"Show tables\")\n",
    "\n",
    "for x in cursor:\n",
    "    print(x)"
   ]
  },
  {
   "cell_type": "markdown",
   "metadata": {},
   "source": [
    "#### Alter the table and add a primary key"
   ]
  },
  {
   "cell_type": "code",
   "execution_count": 15,
   "metadata": {},
   "outputs": [],
   "source": [
    "cursor.execute(\"Alter table customers add id  int not null auto_increment primary key\")\n",
    "db.commit()\n"
   ]
  },
  {
   "cell_type": "markdown",
   "metadata": {},
   "source": [
    "#### INSERT INTO TABLE"
   ]
  },
  {
   "cell_type": "code",
   "execution_count": 16,
   "metadata": {},
   "outputs": [
    {
     "name": "stdout",
     "output_type": "stream",
     "text": [
      "1  record inserted.\n"
     ]
    }
   ],
   "source": [
    "# You don't need to write some lines of connection, this is just for the sake of remembering\n",
    "import mysql.connector\n",
    "db = mysql.connector.connect(host=\"localhost\",user=\"root\",password=\"root\",database=\"mydatabase\")\n",
    "\n",
    "cursor = db.cursor()\n",
    "\n",
    "query = \"Insert into customers (name, address) values (%s, %s)\"\n",
    "value = (\"Sagar\", \"Kandhkot\")\n",
    "\n",
    "cursor.execute(query,value)\n",
    "\n",
    "db.commit()\n",
    "\n",
    "print(cursor.rowcount, \" record inserted.\" )\n",
    "\n"
   ]
  },
  {
   "cell_type": "markdown",
   "metadata": {},
   "source": [
    "### Insert Multiple Rows\n",
    "List of tuples, executemany( ) instead of execute()"
   ]
  },
  {
   "cell_type": "code",
   "execution_count": 18,
   "metadata": {},
   "outputs": [
    {
     "name": "stdout",
     "output_type": "stream",
     "text": [
      "3  record inserted\n"
     ]
    }
   ],
   "source": [
    "import mysql.connector\n",
    "db = mysql.connector.connect(host=\"localhost\",user=\"root\",password=\"root\",database=\"mydatabase\")\n",
    "\n",
    "cursor = db.cursor()\n",
    "\n",
    "query = \"Insert into customers(name, address) values(%s, %s)\"\n",
    "value = [(\"John Doe\",\"123 Main St\"), (\"Jane Smith\",\"456 Elm Ave\"),(\"Qadeer Malik\",\"Haibat Road\")]\n",
    "\n",
    "cursor.executemany(query,value)\n",
    "\n",
    "db.commit()\n",
    "print(cursor.rowcount, \" record inserted\")\n",
    "# try:\n",
    "#     cursor.executemany(query, value)\n",
    "#     db.commit()\n",
    "# except Exception as e:\n",
    "#     print(\"Error: {}\".format(str(e)))\n",
    "# finally:\n",
    "#     if (db.is_connected()):\n",
    "#         cursor.close()\n",
    "#         db.close()\n"
   ]
  },
  {
   "cell_type": "markdown",
   "metadata": {},
   "source": [
    "### Select statement"
   ]
  },
  {
   "cell_type": "code",
   "execution_count": 23,
   "metadata": {},
   "outputs": [
    {
     "name": "stdout",
     "output_type": "stream",
     "text": [
      "Name=Sagar Address=Kandhkot ID=1\n"
     ]
    }
   ],
   "source": [
    "import mysql.connector\n",
    "db = mysql.connector.connect(host=\"localhost\",user=\"root\",passwd=\"root\",database=\"mydatabase\")\n",
    "cursor = db.cursor()\n",
    "\n",
    "query=(\"SELECT * FROM customers WHERE id=%s\")\n",
    "values=(1,)\n",
    "\n",
    "cursor.execute(query, values)\n",
    "record = cursor.fetchone()\n",
    "\n",
    "print(f\"Name={record[0]} Address={record[1]} ID={record[2]}\")"
   ]
  },
  {
   "cell_type": "markdown",
   "metadata": {},
   "source": [
    "### fetchall()"
   ]
  },
  {
   "cell_type": "code",
   "execution_count": 29,
   "metadata": {},
   "outputs": [
    {
     "name": "stdout",
     "output_type": "stream",
     "text": [
      "[('Sagar', 'Kandhkot', 1), ('John Doe', '123 Main St', 2), ('Jane Smith', '456 Elm Ave', 3), ('Qadeer Malik', 'Haibat Road', 4)]\n",
      "\n",
      "('Sagar', 'Kandhkot', 1)\n",
      "('John Doe', '123 Main St', 2)\n",
      "('Jane Smith', '456 Elm Ave', 3)\n",
      "('Qadeer Malik', 'Haibat Road', 4)\n"
     ]
    }
   ],
   "source": [
    "import mysql.connector\n",
    "db = mysql.connector.connect(host=\"localhost\",user=\"root\",passwd=\"root\",database=\"mydatabase\")\n",
    "cursor = db.cursor()\n",
    "\n",
    "cursor.execute(\"Select * from customers\")\n",
    "# fetchone() will return one row\n",
    "# fetchmany(numberOfRows)\n",
    "result = cursor.fetchall()\n",
    "\n",
    "# Print the list of tuples\n",
    "print(result)\n",
    "print()\n",
    "\n",
    "# Print each record/tuple \n",
    "for x in result:\n",
    "    print(x)\n"
   ]
  },
  {
   "cell_type": "markdown",
   "metadata": {},
   "source": [
    "### Where Clause"
   ]
  },
  {
   "cell_type": "code",
   "execution_count": 34,
   "metadata": {},
   "outputs": [
    {
     "name": "stdout",
     "output_type": "stream",
     "text": [
      "('Jane Smith', '456 Elm Ave', 3)\n"
     ]
    }
   ],
   "source": [
    "import mysql.connector\n",
    "db = mysql.connector.connect(host=\"localhost\", user=\"root\", passwd=\"root\",database=\"mydatabase\")\n",
    "cursor = db.cursor()\n",
    "cursor.execute(\"Select * from customers where id = 3\")\n",
    "record = cursor.fetchone()\n",
    "print(record)"
   ]
  },
  {
   "cell_type": "markdown",
   "metadata": {},
   "source": [
    "## Prevent SQL Injection\n",
    "When query values are provided by the user, you should escape the values. This is called parameterization or prepared statements. "
   ]
  },
  {
   "cell_type": "code",
   "execution_count": 35,
   "metadata": {},
   "outputs": [
    {
     "name": "stdout",
     "output_type": "stream",
     "text": [
      "('John Doe', '123 Main St', 2)\n"
     ]
    }
   ],
   "source": [
    "import mysql.connector\n",
    "db = mysql.connector.connect(host=\"localhost\",user=\"root\",passwd=\"root\",database=\"mydatabase\")\n",
    "cursor = db.cursor()\n",
    "\n",
    "query = \"Select * from customers where id = %s\"\n",
    "value = (2,)\n",
    "\n",
    "cursor.execute(query,value)\n",
    "result = cursor.fetchone()\n",
    "print(result)"
   ]
  },
  {
   "cell_type": "markdown",
   "metadata": {},
   "source": [
    "### ORDER BY"
   ]
  },
  {
   "cell_type": "code",
   "execution_count": 41,
   "metadata": {},
   "outputs": [
    {
     "name": "stdout",
     "output_type": "stream",
     "text": [
      "[('Qadeer Malik', 'Haibat Road', 4), ('Jane Smith', '456 Elm Ave', 3), ('John Doe', '123 Main St', 2), ('Sagar', 'Kandhkot', 1)]\n"
     ]
    }
   ],
   "source": [
    "import mysql.connector\n",
    "db = mysql.connector.connect(host=\"localhost\",user=\"root\",passwd=\"root\",database=\"mydatabase\")\n",
    "cursor = db.cursor()\n",
    "\n",
    "query = \"Select * from customers order by id desc\"\n",
    "cursor.execute(query)\n",
    "result = cursor.fetchall()\n",
    "print(result)"
   ]
  },
  {
   "cell_type": "markdown",
   "metadata": {},
   "source": [
    "## DELETE"
   ]
  },
  {
   "cell_type": "code",
   "execution_count": 42,
   "metadata": {},
   "outputs": [
    {
     "name": "stdout",
     "output_type": "stream",
     "text": [
      "1 record(s) deleted\n"
     ]
    }
   ],
   "source": [
    "import mysql.connector\n",
    "db = mysql.connector.connect(host=\"localhost\",user=\"root\",passwd=\"root\",database=\"mydatabase\")\n",
    "cursor = db.cursor()\n",
    "cursor.execute(\"Delete from customers where id = 4\")\n",
    "db.commit( )\n",
    "print (cursor.rowcount, \"record(s) deleted\")"
   ]
  },
  {
   "cell_type": "markdown",
   "metadata": {},
   "source": [
    "## Drop Table/ Drop Table If Exists"
   ]
  },
  {
   "cell_type": "code",
   "execution_count": 45,
   "metadata": {},
   "outputs": [],
   "source": [
    "import mysql.connector\n",
    "db = mysql.connector.connect(host=\"localhost\",user=\"root\",passwd=\"root\",database=\"mydatabase\")\n",
    "cursor = db.cursor()\n",
    "# There is no such mydb database. If you omit the 'if exists', then you will get an exception or may be multiple exceptions.\n",
    "cursor.execute(\"Drop table if exists mydb\")"
   ]
  },
  {
   "cell_type": "markdown",
   "metadata": {},
   "source": [
    "## Update"
   ]
  },
  {
   "cell_type": "code",
   "execution_count": 52,
   "metadata": {},
   "outputs": [
    {
     "name": "stdout",
     "output_type": "stream",
     "text": [
      "1 Record Updated.\n",
      "The Last Inserted Record Id Is :  0 0\n"
     ]
    }
   ],
   "source": [
    "import mysql.connector\n",
    "db = mysql.connector.connect(host=\"localhost\",user=\"root\",passwd=\"root\",database='mydatabase')\n",
    "cursor=db.cursor()\n",
    "cursor.execute(\"Update customers set  name='Johnna' where id=2\")   \n",
    "\n",
    "print (cursor.rowcount,\"Record Updated.\")  \n",
    "\n",
    "#To get the last inserted record ID, use:\n",
    "print (\"The Last Inserted Record Id Is : \",cursor.lastrowid, cursor._last_insert_id)\n",
    "\n",
    "# Nothing will happen until you don't commit.\n",
    "db.commit()"
   ]
  },
  {
   "cell_type": "markdown",
   "metadata": {},
   "source": [
    "## Limit"
   ]
  },
  {
   "cell_type": "code",
   "execution_count": 53,
   "metadata": {},
   "outputs": [
    {
     "name": "stdout",
     "output_type": "stream",
     "text": [
      "[('Sagar', 'Kandhkot', 1), ('Johnna', '123 Main St', 2)]\n"
     ]
    }
   ],
   "source": [
    "import mysql.connector\n",
    "db = mysql.connector.connect(host='localhost',user='root',passwd='root',database='mydatabase')\n",
    "cursor = db.cursor()\n",
    "cursor.execute(\"Select * from customers limit  2\")\n",
    "result = cursor.fetchall()\n",
    "print(result)"
   ]
  },
  {
   "cell_type": "code",
   "execution_count": 54,
   "metadata": {},
   "outputs": [
    {
     "name": "stdout",
     "output_type": "stream",
     "text": [
      "10 Record inserted\n"
     ]
    }
   ],
   "source": [
    "query=\"Insert into customers(name,address) values(%s,%s)\"\n",
    "value=[(\"A\",\"aaa\"),(\"B\",\"bbb\"),(\"C\",\"ccc\"),(\"D\",\"ddd\"),(\"E\",\"eee\"),(\"F\",\"fff\"),(\"G\",\"ggg\"),(\"H\",\"hhh\"),(\"I\",\"iii\"),(\"J\",\"jjj\")]\n",
    "cursor.executemany(query,value)\n",
    "print(cursor.rowcount,\"Record inserted\")"
   ]
  },
  {
   "cell_type": "code",
   "execution_count": 57,
   "metadata": {},
   "outputs": [
    {
     "name": "stdout",
     "output_type": "stream",
     "text": [
      "('Sagar', 'Kandhkot', 1)\n",
      "('Johnna', '123 Main St', 2)\n",
      "('Jane Smith', '456 Elm Ave', 3)\n",
      "('A', 'aaa', 5)\n",
      "('B', 'bbb', 6)\n",
      "('C', 'ccc', 7)\n",
      "('D', 'ddd', 8)\n",
      "('E', 'eee', 9)\n",
      "('F', 'fff', 10)\n",
      "('G', 'ggg', 11)\n",
      "('H', 'hhh', 12)\n",
      "('I', 'iii', 13)\n",
      "('J', 'jjj', 14)\n"
     ]
    }
   ],
   "source": [
    "cursor.execute(\"Select * from customers\")\n",
    "result = cursor.fetchall()\n",
    "db.commit()\n",
    "for row in result:\n",
    "    print(row)"
   ]
  },
  {
   "cell_type": "markdown",
   "metadata": {},
   "source": [
    "### Limit number_of_rows OFFSET start_from_row_no\n",
    "Note: Rows starts from 0"
   ]
  },
  {
   "cell_type": "code",
   "execution_count": 56,
   "metadata": {},
   "outputs": [
    {
     "name": "stdout",
     "output_type": "stream",
     "text": [
      "('A', 'aaa', 5)\n",
      "('B', 'bbb', 6)\n",
      "('C', 'ccc', 7)\n",
      "('D', 'ddd', 8)\n",
      "('E', 'eee', 9)\n"
     ]
    }
   ],
   "source": [
    "cursor.execute(\"Select * from customers limit 5 offset 3\")\n",
    "result = cursor.fetchall()\n",
    "for row in result:\n",
    "    print(row)"
   ]
  }
 ],
 "metadata": {
  "kernelspec": {
   "display_name": "Python 3",
   "language": "python",
   "name": "python3"
  },
  "language_info": {
   "codemirror_mode": {
    "name": "ipython",
    "version": 3
   },
   "file_extension": ".py",
   "mimetype": "text/x-python",
   "name": "python",
   "nbconvert_exporter": "python",
   "pygments_lexer": "ipython3",
   "version": "3.12.0"
  }
 },
 "nbformat": 4,
 "nbformat_minor": 2
}
